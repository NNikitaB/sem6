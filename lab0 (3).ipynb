{
  "nbformat": 4,
  "nbformat_minor": 0,
  "metadata": {
    "language_info": {
      "name": "python",
      "codemirror_mode": {
        "name": "ipython",
        "version": 3
      },
      "version": "3.7.4-final"
    },
    "orig_nbformat": 2,
    "file_extension": ".py",
    "mimetype": "text/x-python",
    "name": "python",
    "npconvert_exporter": "python",
    "pygments_lexer": "ipython3",
    "version": 3,
    "kernelspec": {
      "name": "python37432bite4277000077b43648655a68cb4929e92",
      "display_name": "Python 3.7.4 32-bit"
    },
    "colab": {
      "name": "lab0.ipynb",
      "provenance": [],
      "collapsed_sections": []
    }
  },
  "cells": [
    {
      "cell_type": "markdown",
      "metadata": {
        "id": "rjpm0R-U_p-l",
        "colab_type": "text"
      },
      "source": [
        "## Лабораторная работа 0 "
      ]
    },
    {
      "cell_type": "markdown",
      "metadata": {
        "id": "p7xXG4G5_p-r",
        "colab_type": "text"
      },
      "source": [
        "### Непрерывная случайная величина"
      ]
    },
    {
      "cell_type": "code",
      "metadata": {
        "id": "BLSTIkHv_p-v",
        "colab_type": "code",
        "colab": {}
      },
      "source": [
        "import random\n",
        "import numpy as np\n",
        "import matplotlib.pyplot as plt\n",
        "from prettytable import PrettyTable as pt\n",
        "from scipy import stats as st\n",
        "import math\n",
        "my_size = 1000\n",
        "my_lambda =9 / 5"
      ],
      "execution_count": 0,
      "outputs": []
    },
    {
      "cell_type": "markdown",
      "metadata": {
        "id": "L_8GCPzi_p-5",
        "colab_type": "text"
      },
      "source": [
        "Сгенерируем набор случайных величин c равномерным распределением"
      ]
    },
    {
      "cell_type": "code",
      "metadata": {
        "id": "3kZ8J3iY_p-8",
        "colab_type": "code",
        "colab": {
          "base_uri": "https://localhost:8080/",
          "height": 265
        },
        "outputId": "13c269b7-5218-4747-b9ff-eee6b38bf4f7"
      },
      "source": [
        "linear = np.random.uniform(size=my_size)\n",
        "plt.hist(linear)\n",
        "plt.show()"
      ],
      "execution_count": 73,
      "outputs": [
        {
          "output_type": "display_data",
          "data": {
            "image/png": "[encoded data removed]",
            "text/plain": [
              "<Figure size 432x288 with 1 Axes>"
            ]
          },
          "metadata": {
            "tags": []
          }
        }
      ]
    },
    {
      "cell_type": "markdown",
      "metadata": {
        "id": "oJoWwNGp_p_H",
        "colab_type": "text"
      },
      "source": [
        "Согласно номеру варианта (13), примем $\\lambda = \\frac{9}{5}$\n",
        "\n",
        "$x_i=-\\frac{1}{\\lambda}\\ln(y_i)$, где $x_i$ - псевдослучайное число показательного распределения, а $y_i$ - псевдослучайное число равномерного распределения\n",
        "\n",
        "Получим по данной формуле значения, соответствующие показательному распределению:"
      ]
    },
    {
      "cell_type": "code",
      "metadata": {
        "id": "eNs0nCf1_p_K",
        "colab_type": "code",
        "colab": {
          "base_uri": "https://localhost:8080/",
          "height": 265
        },
        "outputId": "cb0fbe5d-fea1-4bef-b25b-5b8ecf3a52da"
      },
      "source": [
        "exponential = np.multiply(np.log(linear), -1/my_lambda)\n",
        "plt.hist(exponential)\n",
        "plt.show()"
      ],
      "execution_count": 74,
      "outputs": [
        {
          "output_type": "display_data",
          "data": {
            "image/png": "[encoded data removed]",
            "text/plain": [
              "<Figure size 432x288 with 1 Axes>"
            ]
          },
          "metadata": {
            "tags": []
          }
        }
      ]
    },
    {
      "cell_type": "markdown",
      "metadata": {
        "id": "-6r1rhe3_p_T",
        "colab_type": "text"
      },
      "source": [
        "Вычислим среднее арифметическое и выборочную дисперсию для полученной выборки.\n",
        "$MX = \\frac{1}{\\lambda} , DX = \\frac{1}{\\lambda ^2}  $"
      ]
    },
    {
      "cell_type": "code",
      "metadata": {
        "id": "lliCwhOU_p_V",
        "colab_type": "code",
        "colab": {
          "base_uri": "https://localhost:8080/",
          "height": 34
        },
        "outputId": "acce1b7e-d0a4-4bad-fc3e-410eecf5956d"
      },
      "source": [
        "#mean = np.mean(exponential)\n",
        "#mean2 = np.mean(np.square(exponential))\n",
        "#dispertion = mean2 - mean**2\n",
        "mean=1/my_lambda\n",
        "dispertion= mean/my_lambda\n",
        "print(\"Среднее {}, дисперсия {}\".format(mean, dispertion))"
      ],
      "execution_count": 75,
      "outputs": [
        {
          "output_type": "stream",
          "text": [
            "Среднее 0.5555555555555556, дисперсия 0.30864197530864196\n"
          ],
          "name": "stdout"
        }
      ]
    },
    {
      "cell_type": "markdown",
      "metadata": {
        "id": "tfgtQdW__p_e",
        "colab_type": "text"
      },
      "source": [
        "Проверим гипотезу о том, что полученная выборка соответствует показательному закону распределения. Используем критерий Пирсона (${\\chi}^2$)"
      ]
    },
    {
      "cell_type": "code",
      "metadata": {
        "id": "_u6aGm_4_p_k",
        "colab_type": "code",
        "colab": {
          "base_uri": "https://localhost:8080/",
          "height": 462
        },
        "outputId": "fb8f8623-f623-4d3e-f24d-5d5a9ff878f7"
      },
      "source": [
        "# Получим интервалы ([log2(n)]+1 интервала)\n",
        "int_cnt = math.ceil(np.log2(len(exponential)))\n",
        "x = np.linspace(0, np.max(exponential), num=int_cnt+1)\n",
        "# Определим, сколько значений находится в каждом из интервалов\n",
        "n = np.zeros((int_cnt,))\n",
        "for X in exponential:\n",
        "    i = 0\n",
        "    while not (x[i] < X <= x[i+1]):\n",
        "        i+=1\n",
        "    n[i]+=1\n",
        "# Вычислим теоретические частоты\n",
        "print(\"попадания\",n)\n",
        "p = np.empty_like(n)\n",
        "for i in range(len(x)-1):\n",
        "    p[i] = math.exp(-my_lambda * x[i]) - math.exp(-my_lambda * x[i+1])\n",
        "n_t = np.multiply(p, my_size)\n",
        "# Ковариация\n",
        "cov = [(n[i] - n_t[i]) ** 2 / n_t[i] for i in range(int_cnt)]\n",
        "# Полученное значение \\chi^2\n",
        "pearson = sum(cov)\n",
        "\n",
        "# Критерий Пирсона при 5% и v=10\n",
        "hi_criteria = 16.92\n",
        "if pearson <= hi_criteria: \n",
        "  print( \"гипотеза ОК\",pearson)\n",
        "else:\n",
        "  print( \"гипотезу следует отбросить\",pearson)\n",
        "\n",
        "rn =[ i for i in range(len(n))]\n",
        "plt.figure(figsize=(9,7 ))\n",
        "plt.plot(rn, n)\n",
        "plt.show()"
      ],
      "execution_count": 76,
      "outputs": [
        {
          "output_type": "stream",
          "text": [
            "попадания [476. 242. 132.  68.  51.  15.   6.   4.   4.   2.]\n",
            "гипотеза ОК 9.657999373728071\n"
          ],
          "name": "stdout"
        },
        {
          "output_type": "display_data",
          "data": {
            "image/png": "[encoded data removed]",
            "text/plain": [
              "<Figure size 648x504 with 1 Axes>"
            ]
          },
          "metadata": {
            "tags": []
          }
        }
      ]
    },
    {
      "cell_type": "markdown",
      "metadata": {
        "id": "Vg9p7V1iq19j",
        "colab_type": "text"
      },
      "source": [
        "гипотеза  Верна"
      ]
    },
    {
      "cell_type": "markdown",
      "metadata": {
        "id": "mFU41viP_p_-",
        "colab_type": "text"
      },
      "source": [
        "### Дискретная случайная величина\n"
      ]
    },
    {
      "cell_type": "markdown",
      "metadata": {
        "id": "Yt8cn88w_qAB",
        "colab_type": "text"
      },
      "source": [
        "Согласно варианту, $i = 10 , j = 1, k = 6, t = 2(i+j+k) = 34$\n",
        "\n",
        "|$x_i$| 0 | 1 | 2 | 3 |\n",
        "|-----|---|---|---|---|\n",
        "|$p_i$|$\\frac{i}{t}$|$\\frac{j}{t}$|$\\frac{ i+j }{t}$|$\\frac{2k}{t}$|\n"
      ]
    },
    {
      "cell_type": "markdown",
      "metadata": {
        "id": "zehZUzu__qAG",
        "colab_type": "text"
      },
      "source": [
        "|$x_i$| 0 | 1 | 2 | 3 |\n",
        "|-----|---|---|---|---|\n",
        "|$p_i$|$\\frac{10}{34}$|$\\frac{1}{34}$|$\\frac{11}{34}$|$\\frac{12}{34}$|"
      ]
    },
    {
      "cell_type": "code",
      "metadata": {
        "id": "NDU89-gN_qAJ",
        "colab_type": "code",
        "colab": {
          "base_uri": "https://localhost:8080/",
          "height": 265
        },
        "outputId": "876d8a66-447c-455d-dee8-4366d4badf30"
      },
      "source": [
        "# Определим, сколько значений находится в каждом из интервалов\n",
        "cnt = np.zeros((int_cnt,))\n",
        "dx = [0, 10/34, 11/34, 22/34, 34/34]\n",
        "for X in linear:\n",
        "    i = 0\n",
        "    while not (dx[i] < X <= dx[i+1]):\n",
        "        i+=1\n",
        "    cnt[i]+=1\n",
        "# Определим частоты\n",
        "p_discr = np.divide(cnt, my_size)\n",
        "p_d_teor = [10/34, 1/34, 11/34, 12/34]\n",
        "# Сформируем последовательность и построем по ней гистограмму\n",
        "discr_exponential = []\n",
        "for i in range(len(cnt)):\n",
        "    for k in range(int(cnt[i])):\n",
        "        discr_exponential.append(i)\n",
        "plt.hist(discr_exponential, 4)\n",
        "plt.show()"
      ],
      "execution_count": 77,
      "outputs": [
        {
          "output_type": "display_data",
          "data": {
            "image/png": "[encoded data removed]",
            "text/plain": [
              "<Figure size 432x288 with 1 Axes>"
            ]
          },
          "metadata": {
            "tags": []
          }
        }
      ]
    },
    {
      "cell_type": "code",
      "metadata": {
        "id": "U4gmxcG__qAR",
        "colab_type": "code",
        "colab": {
          "base_uri": "https://localhost:8080/",
          "height": 34
        },
        "outputId": "fdb871f9-b4aa-4d50-f841-1692c3b90fa3"
      },
      "source": [
        "discr_mean = np.mean(discr_exponential)\n",
        "discr_mean2 = np.mean(np.square(discr_exponential))\n",
        "discr_dispertion = discr_mean2 - discr_mean**2\n",
        "print(\"Среднее {}, дисперсия {}\".format(discr_mean, discr_dispertion))"
      ],
      "execution_count": 82,
      "outputs": [
        {
          "output_type": "stream",
          "text": [
            "Среднее 1.766, дисперсия 1.4912440000000005\n"
          ],
          "name": "stdout"
        }
      ]
    },
    {
      "cell_type": "code",
      "metadata": {
        "id": "hg3nfo__vI1Q",
        "colab_type": "code",
        "colab": {
          "base_uri": "https://localhost:8080/",
          "height": 34
        },
        "outputId": "f6a02152-4421-465b-93c4-1feb7bda32ca"
      },
      "source": [
        "d_n_t = [p * my_size for p in p_d_teor]\n",
        "# Ковариация\n",
        "discr_cov = [(cnt[i] - d_n_t[i]) ** 2 / d_n_t[i] for i in range(4)]\n",
        "\n",
        "hi_criteria =7.8\n",
        "# Полученное значение \\chi^2\n",
        "d_pearson = sum(discr_cov)\n",
        "print(\"Вычисленное \\chi ^2 {}, критерий Пирсона {}, {}\".format(d_pearson, hi_criteria, \"гипотеза подтверждена\" if d_pearson <= hi_criteria else \"гипотезу следует отбросить\"))"
      ],
      "execution_count": 86,
      "outputs": [
        {
          "output_type": "stream",
          "text": [
            "Вычисленное \\chi ^2 1.6871878787878818, критерий Пирсона 7.8, гипотеза подтверждена\n"
          ],
          "name": "stdout"
        }
      ]
    }
  ]
}