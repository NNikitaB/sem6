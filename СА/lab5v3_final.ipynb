{
  "nbformat": 4,
  "nbformat_minor": 0,
  "metadata": {
    "colab": {
      "name": "lab5v3.ipynb",
      "provenance": [],
      "collapsed_sections": []
    },
    "kernelspec": {
      "name": "python3",
      "display_name": "Python 3"
    }
  },
  "cells": [
    {
      "cell_type": "code",
      "metadata": {
        "id": "Cr8EdgaXGN2G",
        "colab_type": "code",
        "outputId": "4180fddb-39fb-4269-e865-115c387676f9",
        "colab": {
          "base_uri": "https://localhost:8080/",
          "height": 749
        }
      },
      "source": [
        "from itertools import *\n",
        "import numpy as np\n",
        "import matplotlib.pyplot as plt\n",
        "import math\n",
        "import scipy \n",
        "import scipy.optimize as opt\n",
        "import scipy.integrate as integrate\n",
        "\n",
        "def r0(x1,x2):\n",
        "  return 0\n",
        "def r1(x1,x2):\n",
        "  return 1\n",
        "def rx1(x1,x2):\n",
        "  return x1\n",
        "def rx2(x1,x2):\n",
        "  return x2\n",
        "def rx1_2(x1,x2):\n",
        "  return x1*x1\n",
        "def rx2_2(x1,x2):\n",
        "  return x2*x2\n",
        "def rx2x1(x1,x2):\n",
        "  return x2*x1\n",
        "\n",
        "arm=[rx1,rx2,rx2_2,rx2x1]\n",
        "\n",
        "def Get_F(i:int,RRR):#возвр.матр. F\n",
        "  count_r=len(RRR[i])\n",
        "  F=np.zeros((n1,count_r  ))#M: 12 x кол-во регрессоров\n",
        "  for it in range(n1):\n",
        "    for j in range(count_r):\n",
        "      F[it][j]=RRR[i][j](X1[it][0],X2[it][0])\n",
        "  return F\n",
        "\n",
        "def Get_res_s(it:int,A):\n",
        "  xx0=[]\n",
        "  xx1=[]\n",
        "  xx2=[]\n",
        "  yy0=[]\n",
        "  yynew=[]\n",
        "  for i in range(n1):\n",
        "    xx0.append(i)\n",
        "    xx1.append(X1[i][0])\n",
        "    xx2.append(X2[i][0])\n",
        "    yy0.append(Y0[i][0])\n",
        "    tmp=0.0\n",
        "    for j in range(len(A)):\n",
        "      tmp+=A[j][0]*RRR[it][j](X1[i][0],X2[i][0])\n",
        "    yynew.append(tmp)\n",
        "  return xx0,xx1,xx2,yy0,yynew\n",
        "\n",
        "def Get_Grafic(xx0,yy0,yynew):\n",
        "  fig, ax = plt.subplots()\n",
        "  ax.scatter(xx0, yy0)\n",
        "  ax.plot(xx0, yy0, 'r', lw=2, label=\"Theoretical\")\n",
        "  ax.plot(xx0, yynew, 'b', lw=2, label=\"Fit\")\n",
        "  ax.legend()\n",
        "  ax.set_xlim(0, 13)\n",
        "  ax.set_xlabel(r\"$x$\", fontsize=18)\n",
        "  ax.set_ylabel(r\"$y$\", fontsize=18)\n",
        "  plt.show()\n",
        "  return\n",
        "\n",
        "\n",
        "n1=12\n",
        "n2=10\n",
        "##вектор x1,x2,y\n",
        "X1=np.array([\n",
        "   [10.0],\n",
        "   [6.0],\n",
        "   [5.0],\n",
        "   [6.0],\n",
        "   [8.0],\n",
        "   [6.0],\n",
        "   [4.0],\n",
        "   [11.0],\n",
        "   [4.0],\n",
        "   [5.0],\n",
        "   [8.0],\n",
        "   [3.0],\n",
        "   [3.0]\n",
        "])\n",
        "\n",
        "X2=np.array([\n",
        "   [11.0],\n",
        "   [4.0],\n",
        "   [15.0],\n",
        "   [4.0],\n",
        "   [3.0],\n",
        "   [11.0],\n",
        "   [14.0],\n",
        "   [16.0],\n",
        "   [6.0],\n",
        "   [9.0],\n",
        "   [16.0],\n",
        "   [6.0],\n",
        "   [10.0]\n",
        "])\n",
        "\n",
        "Y0=np.array([\n",
        "   [276.6234933],\n",
        "   [63.8808072],\n",
        "   [324.6093583],\n",
        "   [69.0876417],\n",
        "   [70.7131909],\n",
        "   [217.9847897],\n",
        "   [273.6863587],\n",
        "   [488.8796705],\n",
        "   [80.0760474],\n",
        "   [164.2341817],\n",
        "   [428.4742487],\n",
        "   [72.1589693],\n",
        "])\n",
        "\n",
        "Y=np.array([\n",
        "   142.4072056,\n",
        "   145.5690592,\n",
        "   144.0908624,\n",
        "   146.3931282,\n",
        "   148.0771151,\n",
        "   148.5966160,\n",
        "   142.5186460,\n",
        "   142.5556745,\n",
        "   149.3001572,\n",
        "   146.9588302\n",
        "])\n",
        "\n",
        "\n",
        "\n",
        "def Get_Qo(yy0,yynew):\n",
        "  Qo=0.0 #Q остаток\n",
        "  for i in range(n1):\n",
        "    Qo+=(yy0[i]-yynew[i])**2\n",
        "  return Qo\n",
        "\n",
        "def Get_RRR():\n",
        "  tf=[]\n",
        "  for i in range(2, len(arm)):\n",
        "    j = combinations(arm, i)  \n",
        "    tf+=list(j)\n",
        "  return tf\n",
        "\n",
        "\n",
        "\n",
        "global r_min\n",
        "r_min=999999.9\n",
        "global r_num\n",
        "r_num=0\n",
        "RRR=Get_RRR()\n",
        "for iterat in range(len(RRR)):\n",
        "  F=Get_F(iterat,RRR)\n",
        "  A=(np.linalg.inv(((F.transpose()).dot(F))).dot(F.transpose())).dot(Y0)\n",
        "  #print('A=',A)\n",
        "  xx0,xx1,xx2,yy0,yynew=Get_res_s(iterat,A)\n",
        "  #print(yy0,yynew)\n",
        "  Qoo=Get_Qo(yy0,yynew)\n",
        "  print('i=',iterat,'Q ост=',Qoo)\n",
        "  if(r_min>Qoo):\n",
        "    r_min=Qoo\n",
        "    r_num=iterat\n",
        "\n",
        "F=Get_F(r_num,RRR)\n",
        "print('F=',F)\n",
        "A=(np.linalg.inv(((F.transpose()).dot(F))).dot(F.transpose())).dot(Y0)\n",
        "print('A=',A)\n",
        "xx0,xx1,xx2,yy0,yynew=Get_res_s(r_num,A)\n",
        "\n",
        "print('i=',r_num,'func=',RRR[r_num])#STR_RRR\n",
        "Get_Grafic(xx0,yy0,yynew)"
      ],
      "execution_count": 40,
      "outputs": [
        {
          "output_type": "stream",
          "text": [
            "i= 0 Q ост= 32440.223953959863\n",
            "i= 1 Q ост= 4144.364489354495\n",
            "i= 2 Q ост= 27946.041181951477\n",
            "i= 3 Q ост= 16147.4608506743\n",
            "i= 4 Q ост= 6181.204502118162\n",
            "i= 5 Q ост= 2163.4183732316483\n",
            "i= 6 Q ост= 3141.6336518851895\n",
            "i= 7 Q ост= 3476.334955364265\n",
            "i= 8 Q ост= 235.00002609099292\n",
            "i= 9 Q ост= 556.8754918635972\n",
            "F= [[ 10. 121. 110.]\n",
            " [  6.  16.  24.]\n",
            " [  5. 225.  75.]\n",
            " [  6.  16.  24.]\n",
            " [  8.   9.  24.]\n",
            " [  6. 121.  66.]\n",
            " [  4. 196.  56.]\n",
            " [ 11. 256. 176.]\n",
            " [  4.  36.  24.]\n",
            " [  5.  81.  45.]\n",
            " [  8. 256. 128.]\n",
            " [  3.  36.  18.]]\n",
            "A= [[4.75412987]\n",
            " [1.02300112]\n",
            " [0.99189688]]\n",
            "i= 8 func= (<function rx1 at 0x7f8eeaf492f0>, <function rx2_2 at 0x7f8eeaf49bf8>, <function rx2x1 at 0x7f8eeaf49f28>)\n"
          ],
          "name": "stdout"
        },
        {
          "output_type": "display_data",
          "data": {
            "image/png": "[encoded data removed]",
            "text/plain": [
              "<Figure size 432x288 with 1 Axes>"
            ]
          },
          "metadata": {
            "tags": []
          }
        }
      ]
    },
    {
      "cell_type": "code",
      "metadata": {
        "id": "l-FP39TPr-eG",
        "colab_type": "code",
        "outputId": "27e6390b-71c0-4fd4-d9d5-77c6f58900e0",
        "colab": {
          "base_uri": "https://localhost:8080/",
          "height": 35
        }
      },
      "source": [
        "my_t=np.mean(yy0)#MY теор\n",
        "print('мат.ожидание теор=',my_t)\n",
        "Q=0.0  #Q теор\n",
        "Qr=0.0 #Q реал\n",
        "Qo=0.0 #Q остаток\n",
        "\n",
        "for i in range(n1):\n",
        "  Q+=(yy0[i]-my_t)**2\n",
        "  Qr+=(yynew[i]-my_t)**2\n",
        "  Qo+=(yy0[i]-yynew[i])**2\n",
        "\n",
        "R_2=Qr/Q\n",
        "R_22=1.0-Qo/Q\n",
        "##print('R^2=',R_2,'=',R_22)"
      ],
      "execution_count": 41,
      "outputs": [
        {
          "output_type": "stream",
          "text": [
            "мат.ожидание теор= 210.86739645\n"
          ],
          "name": "stdout"
        }
      ]
    },
    {
      "cell_type": "code",
      "metadata": {
        "id": "gmhwM8WOx43M",
        "colab_type": "code",
        "outputId": "d7e8866d-896d-46bf-b1d0-9a79658f2ecd",
        "colab": {
          "base_uri": "https://localhost:8080/",
          "height": 70
        }
      },
      "source": [
        "print('Q остаток=',Qo,'Q реал=',Qr,'Q теор=',Q)\n",
        "print('R^2=',R_2,'=',R_22)\n",
        "K=len(A)#кол-во регрессоров\n",
        "Sr_2=Qr/(K-1)\n",
        "#Sr_2=0#?????????????????????????????????????????????????????????\n",
        "So_2=Qo/(n1-K)\n",
        "FF=Sr_2/So_2\n",
        "print('F=',FF)"
      ],
      "execution_count": 42,
      "outputs": [
        {
          "output_type": "stream",
          "text": [
            "Q остаток= 235.00002609099292 Q реал= 247580.98876340574 Q теор= 245772.36320821653\n",
            "R^2= 1.0073589460246064 = 0.9990438305470013\n",
            "F= 4740.912024426484\n"
          ],
          "name": "stdout"
        }
      ]
    },
    {
      "cell_type": "markdown",
      "metadata": {
        "id": "s4FeLrx5zq5M",
        "colab_type": "text"
      },
      "source": [
        " $$\\text{Задаем уровень значимости 0.05 .Если } F>=F_T \\text{ то,коэффициент множественной коррелиции R значим}$$ \n",
        " K=3   ,N=12\n",
        "\n",
        " Распред. Фишера F(0.05,2,9)=19.38"
      ]
    },
    {
      "cell_type": "code",
      "metadata": {
        "id": "yDf9HjmSeV4b",
        "colab_type": "code",
        "colab": {
          "base_uri": "https://localhost:8080/",
          "height": 52
        },
        "outputId": "1f0d8542-7cbf-46db-e771-80d505f3e631"
      },
      "source": [
        "y_13_22=np.average(Y)\n",
        "q_e_2=0.0\n",
        "l=len(Y)\n",
        "for i in range(l):\n",
        "  q_e_2+=((Y[i]-y_13_22)**2)/(l-1)\n",
        "q_e_2=np.sqrt(q_e_2)\n",
        "#print(F)\n",
        "#print(q_e_2)\n",
        "C=np.abs( np.linalg.inv( np.dot(F.transpose(),F) )   )\n",
        "q_a=np.zeros(len(C))\n",
        "for i  in range(len(q_a)):\n",
        "  q_a[i]=np.sqrt(C[i][i])*q_e_2\n",
        "print('q_a=',(q_a))\n",
        "q_a=q_a**2\n",
        "\n",
        "\n",
        "T=np.zeros(len(q_a))\n",
        "sk=np.abs(np.sqrt(A[0][0]*A[0][0]+A[1][0]*A[1][0]+A[2][0]*A[2][0]))\n",
        "for i in range(len(q_a)):\n",
        "  T[i]=sk/q_a[i]\n",
        "\n",
        "print('T=',T)"
      ],
      "execution_count": 43,
      "outputs": [
        {
          "output_type": "stream",
          "text": [
            "q_a= [0.2852818  0.01619397 0.04180393]\n",
            "T= [   60.98217924 18925.37071603  2839.99046995]\n"
          ],
          "name": "stdout"
        }
      ]
    },
    {
      "cell_type": "markdown",
      "metadata": {
        "id": "Lel0k71A2OYT",
        "colab_type": "text"
      },
      "source": [
        " $$ \\text{Коэффициент Стьюдента: }   F(0.05,2,7)  = t_\\alpha=2.2621$$\n",
        "\n",
        "$$t_\\text{гр}=t_\\alpha$$\n"
      ]
    },
    {
      "cell_type": "code",
      "metadata": {
        "id": "yW0N2Qk45uK8",
        "colab_type": "code",
        "colab": {
          "base_uri": "https://localhost:8080/",
          "height": 70
        },
        "outputId": "8c30b87f-eb6d-49b5-8bac-939e6a212eec"
      },
      "source": [
        "q_a=np.sqrt(q_a)\n",
        "t_r=2.2621\n",
        "for i in range(len(q_a)):\n",
        "  print(\"Довер.интервалы  t_i=\",i+1,\"   ;\",A[i][0]-t_r*q_a[i],\" <= \",A[i][0],\" <= \",A[i][0]+t_r*q_a[i])"
      ],
      "execution_count": 44,
      "outputs": [
        {
          "output_type": "stream",
          "text": [
            "Довер.интервалы  t_i= 1    ; 4.1087939042741395  <=  4.754129874261401  <=  5.399465844248662\n",
            "Довер.интервалы  t_i= 2    ; 0.9863687373116362  <=  1.0230011181057503  <=  1.0596334988998646\n",
            "Довер.интервалы  t_i= 3    ; 0.8973322104733225  <=  0.9918968782988733  <=  1.086461546124424\n"
          ],
          "name": "stdout"
        }
      ]
    }
  ]
}