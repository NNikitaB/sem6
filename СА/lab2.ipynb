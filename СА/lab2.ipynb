{
  "nbformat": 4,
  "nbformat_minor": 0,
  "metadata": {
    "colab": {
      "name": "Untitled1.ipynb",
      "provenance": [],
      "collapsed_sections": []
    },
    "kernelspec": {
      "name": "python3",
      "display_name": "Python 3"
    }
  },
  "cells": [
    {
      "cell_type": "markdown",
      "metadata": {
        "id": "f0nVskVGlMEw",
        "colab_type": "text"
      },
      "source": [
        "##Лабараторныя работа №2"
      ]
    },
    {
      "cell_type": "markdown",
      "metadata": {
        "id": "fCceOBFNlcfQ",
        "colab_type": "text"
      },
      "source": [
        "**Цель работы :**составить свою фукцию распределения и получить числа заданные по закону распределения"
      ]
    },
    {
      "cell_type": "markdown",
      "metadata": {
        "id": "6MUNw0L9mb81",
        "colab_type": "text"
      },
      "source": [
        "\n",
        "1.   Задать свою функцию распределения\n",
        "$$ \\rho _0(x,y,z)= x^2 +x*y +x*y*z $$\n",
        "$$ K = {\\int\\limits_0^3 { \\int\\limits_0^1 \n",
        "{\\int\\limits_0^2 {(x^2 +xy +xyz)}\\,dz }\\,dy } \\,dx } =\n",
        "$$ \n",
        "$$\n",
        "={{ \\int\\limits_0^3 \n",
        "{\\int\\limits_0^1 {(x^2z +xyz + \\frac{xyz^2}{2}) \\Biggm|_0^2 }\\,dy }\\,dx } }=\n",
        "$$\n",
        "$$\n",
        "={{ \\int\\limits_0^3 \n",
        "{\\int\\limits_0^1 {(2x^2 +2xy + 2xy)  }\\,dy }\\,dx } }=\n",
        "$$\n",
        "$$\n",
        "={{ \\int\\limits_0^3 \n",
        "{\\int\\limits_0^1 {(2x^2 +4xy) }\\,dy }\\,dx } }=\n",
        "$$\n",
        "$$\n",
        "={ \\int\\limits_0^3 \n",
        "{(2x^2y +2xy^2) \\Biggm|_0^1}  \\,dx } =\n",
        "$$\n",
        "$$\n",
        "={ \\int\\limits_0^3 \n",
        "{(2x^2 +2x) }  \\,dx } = (\\frac{2x^3}{3} + x) \\Biggm|_0^3 =\\frac{2*3^3}{3} + 3=2*3^2+3=21\n",
        "$$\n",
        "Функцию плотности распределения:\n",
        "$$\\rho (x,y,z)= K^{-1}*\\rho _0 (x,y,z) $$\n",
        "2.   1\n",
        "\n"
      ]
    },
    {
      "cell_type": "code",
      "metadata": {
        "id": "ohT5DBK8hjx9",
        "colab_type": "code",
        "outputId": "1bad80e3-9578-408b-a75d-6dfc27a47776",
        "colab": {
          "base_uri": "https://localhost:8080/",
          "height": 265
        }
      },
      "source": [
        "import numpy as np\n",
        "import matplotlib.pyplot as plt\n",
        "import math\n",
        "my_size = 1000  #1000*1000\n",
        "linear1 = np.random.uniform(size=my_size)\n",
        "l=[ i for i in range(-100,100)]\n",
        "\n",
        "\n",
        "plt.plot(l)\n",
        "plt.show()"
      ],
      "execution_count": 0,
      "outputs": [
        {
          "output_type": "display_data",
          "data": {
            "image/png": "[encoded data removed]",
            "text/plain": [
              "<Figure size 432x288 with 1 Axes>"
            ]
          },
          "metadata": {
            "tags": []
          }
        }
      ]
    },
    {
      "cell_type": "markdown",
      "metadata": {
        "id": "VNDQq6TFlGZ8",
        "colab_type": "text"
      },
      "source": [
        ""
      ]
    }
  ]
}