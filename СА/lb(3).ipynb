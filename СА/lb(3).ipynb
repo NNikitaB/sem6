{
  "nbformat": 4,
  "nbformat_minor": 0,
  "metadata": {
    "colab": {
      "name": "Untitled1 (3).ipynb",
      "provenance": [],
      "collapsed_sections": []
    },
    "kernelspec": {
      "name": "python3",
      "display_name": "Python 3"
    }
  },
  "cells": [
    {
      "cell_type": "markdown",
      "metadata": {
        "id": "f0nVskVGlMEw",
        "colab_type": "text"
      },
      "source": [
        "##Лабараторныя работа №2"
      ]
    },
    {
      "cell_type": "markdown",
      "metadata": {
        "id": "fCceOBFNlcfQ",
        "colab_type": "text"
      },
      "source": [
        "**Цель работы :**составить свою фукцию распределения и получить числа заданные по закону распределения"
      ]
    },
    {
      "cell_type": "markdown",
      "metadata": {
        "id": "6MUNw0L9mb81",
        "colab_type": "text"
      },
      "source": [
        "\n",
        "1.   Задать свою функцию распределения\n",
        "$$ \\rho _0(x,y,z)= x+1 $$\n",
        "\n",
        "\n",
        "$$  {\\int\\limits_{\\alpha_1}^{\\xi_1} { \\int\\limits_{\\alpha_2}^{\\xi_2} \n",
        "{\\int\\limits_{\\alpha_3}^{\\xi_3} {(x+1)}\\,dz }\\,dy } \\,dx } = (\\xi_3 -\\alpha_3)(\\xi_2 -\\alpha_2)(\\frac{1}{2}(\\xi_1^2 -\\alpha_1^2) + (\\xi_1 -\\alpha_1) )\n",
        "$$ \n",
        "\n",
        "$$ K = {\\int\\limits_0^3 { \\int\\limits_0^1 \n",
        "{\\int\\limits_0^2 {(x+1)}\\,dz }\\,dy } \\,dx } ={{ \\int\\limits_0^3 {(x+1)} { \\int\\limits_0^1 \n",
        "{\\int\\limits_0^2 \\,dz }\\,dy }\\,dx } }={{ \\int\\limits_0^3 {(x+1)} *2*1 \\,dx } } ={ 2(\\frac{x^2}{2} +x ) \\Biggm|_0^3 }={ (x^2 +2x ) \\Biggm|_0^3 }=9+6=15\n",
        "$$ \n",
        "\n",
        "K=15\n",
        "\n",
        "Функцию плотности распределения: $$\\rho (x,y,z)= K^{-1}*\\rho _0 (x,y,z) $$\n",
        "\n",
        "$$\\rho (x,y,z)= 15^{-1}*(x+1) = \\frac{x+1}{15}$$\n",
        "\n",
        "\n",
        "\n",
        "2.    $$\\text{Найти решение } F(\\xi)=Vd$$\n",
        "\n",
        "$$K^{-1}(  (\\xi_3 -\\alpha_3)*(\\xi_2 -\\alpha_2)*(\\frac{1}{2}(\\xi_1^2 -\\alpha_1^2) + (\\xi_1 -\\alpha_1) ) ) = V $$\n",
        "\n"
      ]
    },
    {
      "cell_type": "code",
      "metadata": {
        "id": "ohT5DBK8hjx9",
        "colab_type": "code",
        "outputId": "9d17054a-9fe5-489d-8f23-2e32638fc1cd",
        "colab": {
          "base_uri": "https://localhost:8080/",
          "height": 530
        }
      },
      "source": [
        "import numpy as np\n",
        "import matplotlib.pyplot as plt\n",
        "import math\n",
        "import scipy \n",
        "import scipy.optimize as opt\n",
        "import scipy.integrate as integrate\n",
        "\n",
        "global vvv\n",
        "\n",
        "def f0(x):\n",
        "  return np.sin(x)+(x)**2\n",
        "def f(xi):\n",
        "    alpha=1\n",
        "    a=1\n",
        "    b=3\n",
        "    K=-np.cos(b)+(b**3)/3 +np.cos(a)- (a**3)/3\n",
        "    return(-np.cos(xi)+(xi**3)/3 +np.cos(a)- (a**3)/3 )/K-vvv\n",
        "\n",
        "\n",
        "my_size = 10000  #1000*1000\n",
        "V = np.random.uniform(size=my_size)\n",
        "dd=[]\n",
        "for i in range(len(V)):\n",
        "  vvv=V[i]\n",
        "  dd.append(opt.root(f,3).x)\n",
        "\n",
        "a = 1\n",
        "b = 3\n",
        "\n",
        "x_axis = np.linspace(a,b) \n",
        "plt.plot(x_axis,np.apply_along_axis(f0,0,x_axis))\n",
        "plt.show()\n",
        "print(\"k =\",integrate.quad(f0,a,b)[0])\n",
        "\n",
        "ni = [ dd[i][0]for i in range(len(V))]\n",
        "\n",
        "plt.hist(ni,math.ceil(np.log2(my_size)*4))\n",
        "plt.show()"
      ],
      "execution_count": 3,
      "outputs": [
        {
          "output_type": "display_data",
          "data": {
            "image/png": "[encoded data removed]",
            "text/plain": [
              "<Figure size 432x288 with 1 Axes>"
            ]
          },
          "metadata": {
            "tags": []
          }
        },
        {
          "output_type": "stream",
          "text": [
            "k = 10.196961469135251\n"
          ],
          "name": "stdout"
        },
        {
          "output_type": "display_data",
          "data": {
            "image/png": "[encoded data removed]",
            "text/plain": [
              "<Figure size 432x288 with 1 Axes>"
            ]
          },
          "metadata": {
            "tags": []
          }
        }
      ]
    }
  ]
}