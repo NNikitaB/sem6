{
  "nbformat": 4,
  "nbformat_minor": 0,
  "metadata": {
    "colab": {
      "name": "Untitled0.ipynb",
      "provenance": [],
      "collapsed_sections": []
    },
    "kernelspec": {
      "name": "python3",
      "display_name": "Python 3"
    }
  },
  "cells": [
    {
      "cell_type": "markdown",
      "metadata": {
        "id": "PPukqxEb0l9S",
        "colab_type": "text"
      },
      "source": [
        "Лабораторная работа 1\n"
      ]
    },
    {
      "cell_type": "code",
      "metadata": {
        "id": "MVwyjbAWzSr0",
        "colab_type": "code",
        "colab": {
          "base_uri": "https://localhost:8080/",
          "height": 265
        },
        "outputId": "342263dd-2098-4f55-9640-9c44af762a08"
      },
      "source": [
        "import numpy as np\n",
        "import matplotlib.pyplot as plt\n",
        "import math\n",
        "my_size = 1000*1000\n",
        "linear1 = np.random.uniform(size=my_size)\n",
        "linear2 = np.random.uniform(size=my_size)\n",
        "#Z = √(–2 · Ln(r1)) · cos(2π · r2)\n",
        "norm = [np.sqrt(-2*np.log(linear1[i]))* np.cos(linear2[i]*math.pi*2) for i in range(my_size)]\n",
        "plt.hist(norm,math.ceil(np.log2(my_size)*4))\n",
        "plt.show()"
      ],
      "execution_count": 32,
      "outputs": [
        {
          "output_type": "display_data",
          "data": {
            "image/png": "[encoded data removed]",
            "text/plain": [
              "<Figure size 432x288 with 1 Axes>"
            ]
          },
          "metadata": {
            "tags": []
          }
        }
      ]
    }
  ]
}